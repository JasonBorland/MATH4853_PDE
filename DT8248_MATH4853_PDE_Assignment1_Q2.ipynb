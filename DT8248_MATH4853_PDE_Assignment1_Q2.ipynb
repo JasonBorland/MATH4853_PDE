{
 "cells": [
  {
   "cell_type": "markdown",
   "metadata": {},
   "source": [
    "## DT8248 MATH4853 Introduction to Partial Differential Equations Assignment 1\n",
    "## Lecturer: Colum Watt\n",
    "## Student Name: Jason Borland \n",
    "## Student Number: D17129310\n",
    "\n",
    "## Question 2"
   ]
  },
  {
   "cell_type": "markdown",
   "metadata": {},
   "source": [
    "Consider the semi-linear, first order, partial differential equation\n",
    "$$ y\\frac{\\partial u}{\\partial x} - x\\frac{\\partial u}{\\partial y} = c(x,y,u) \\quad (*)$$\n",
    "\n",
    "Define $\\omega(r,\\theta)$ by $\\omega(r,\\theta) = u(rcos(\\theta), rsin(\\theta))$ for $r>0$ and $\\theta \\in \\Re$.\n",
    "\n",
    "(a) Express $\\frac{\\partial \\omega}{\\partial r}$ and $\\frac{\\partial \\omega}{\\partial \\theta}$ in terms of $\\frac{\\partial u}{\\partial x}$ and $\\frac{\\partial u}{\\partial y}$.\n",
    "\n",
    "(b) Rewrite (*) in terms of $w, r, and \\theta$.\n",
    "\n",
    "(c) Rewrite the Cauchy problem:\n",
    "$$ y\\frac{\\partial u}{\\partial x} - x\\frac{\\partial u}{\\partial y} = 1$$\n",
    "Where $ u(x,0) = 0 \\, for \\, 0 < x < \\infty $\n",
    "in terms of $w, r, and \\theta$ and hece solve it.\n",
    "\n",
    "(d) In terms of $r \\, and \\, \\theta$, determine the domain of influence of the initial conditions.\n"
   ]
  },
  {
   "cell_type": "markdown",
   "metadata": {},
   "source": [
    "### Part (a):\n",
    "In the semi-linear, 1st order PDE (*), u is a function of x and y. (i.e. u(x,y)).\n",
    "\n",
    "If $\\omega(r,\\theta) = u(rcos(\\theta), rsin(\\theta))$, therefore $x = rcos(\\theta)$ and $y = rsin(\\theta)$ then\n",
    "\n",
    "\\begin{align}\n",
    "\\frac{\\partial \\omega}{\\partial r}  &= \\frac{\\partial [u(x(r,\\theta), y(r,\\theta))]}{\\partial r} \\\\\n",
    "\\frac{\\partial \\omega}{\\partial r}  &= \\frac{\\partial u}{\\partial x}\\frac{\\partial x}{\\partial r} + \\frac{\\partial u}{\\partial y}\\frac{\\partial y}{\\partial r} \\\\\n",
    "\\frac{\\partial \\omega}{\\partial r}  &= \\frac{\\partial [u(rcos(\\theta), rsin(\\theta))]}{\\partial r} \\\\\n",
    "\\frac{\\partial \\omega}{\\partial r}  &=  \\cos(\\theta)\\frac{\\partial u}{\\partial x} + \\sin(\\theta)\\frac{\\partial u}{\\partial y} \\quad (1)\\\\\n",
    "\\end{align}\n",
    "\n",
    "Similarly:\n",
    "\\begin{align}\n",
    "\\frac{\\partial \\omega}{\\partial \\theta}  &= \\frac{\\partial [u(x(r,\\theta), y(r,\\theta))]}{\\partial \\theta} \\\\\n",
    "\\frac{\\partial \\omega}{\\partial \\theta}  &= \\frac{\\partial u}{\\partial x}\\frac{\\partial x}{\\partial \\theta} + \\frac{\\partial u}{\\partial y}\\frac{\\partial y}{\\partial \\theta} \\\\\n",
    "\\frac{\\partial \\omega}{\\partial \\theta}  &= \\frac{\\partial [u(rcos(\\theta), rsin(\\theta))]}{\\partial \\theta} \\\\\n",
    "\\frac{\\partial \\omega}{\\partial \\theta}  &=  -r\\sin(\\theta)\\frac{\\partial u}{\\partial x} + r\\cos(\\theta)\\frac{\\partial u}{\\partial y} \\quad (2)\\\\\n",
    "\\end{align}\n",
    "\n",
    "\n"
   ]
  },
  {
   "cell_type": "markdown",
   "metadata": {},
   "source": [
    "### Part (b):\n",
    "If you multiply (1) by $r\\sin(\\theta)$ and (2) by $\\cos(\\theta)$ then add the results:\n",
    "\\begin{align}\n",
    "r\\sin(\\theta)\\frac{\\partial \\omega}{\\partial r}  &=  r\\sin(\\theta)\\cos(\\theta)\\frac{\\partial u}{\\partial x} + r\\sin^2(\\theta)\\frac{\\partial u}{\\partial y} \\quad & (3)\\\\\n",
    "\\cos(\\theta)\\frac{\\partial \\omega}{\\partial \\theta}  &=  -r\\cos(\\theta)\\sin(\\theta)\\frac{\\partial u}{\\partial x} + r\\cos^2(\\theta)\\frac{\\partial u}{\\partial y} \\quad & (4)\\\\\n",
    "r\\sin(\\theta)\\frac{\\partial \\omega}{\\partial r} + \\cos(\\theta)\\frac{\\partial \\omega}{\\partial \\theta} &= r(\\sin^2(\\theta) + \\cos^2(\\theta))\\frac{\\partial u}{\\partial y} \\\\\n",
    "r\\sin(\\theta)\\frac{\\partial \\omega}{\\partial r} + \\cos(\\theta)\\frac{\\partial \\omega}{\\partial \\theta} &= r\\frac{\\partial u}{\\partial y} \\quad \\quad &  (3) + (4) = (5) \\\\\n",
    "\\sin(\\theta)\\frac{\\partial \\omega}{\\partial r} + \\frac{1}{r}\\cos(\\theta)\\frac{\\partial \\omega}{\\partial \\theta} &= \\frac{\\partial u}{\\partial y} & (6)\n",
    "\\end{align}\n",
    "\n",
    "If you multiply (1) by $r\\cos(\\theta)$ and (2) by $\\sin(\\theta)$ then subtract the results:\n",
    "\\begin{align}\n",
    "r\\cos(\\theta)\\frac{\\partial \\omega}{\\partial r}  &=  r\\cos^2(\\theta)\\frac{\\partial u}{\\partial x} + r\\sin(\\theta)\\sin(\\theta)\\frac{\\partial u}{\\partial y} \\quad & (7)\\\\\n",
    "\\sin(\\theta)\\frac{\\partial \\omega}{\\partial \\theta}  &=  -r\\sin^2(\\theta)\\frac{\\partial u}{\\partial x} + r\\sin(\\theta)\\cos(\\theta)\\frac{\\partial u}{\\partial y} \\quad & (8)\\\\\n",
    "r\\cos(\\theta)\\frac{\\partial \\omega}{\\partial r} - \\sin(\\theta)\\frac{\\partial \\omega}{\\partial \\theta} &= r(\\cos^2(\\theta) + \\sin^2(\\theta))\\frac{\\partial u}{\\partial x} \\\\\n",
    "r\\cos(\\theta)\\frac{\\partial \\omega}{\\partial r} - \\sin(\\theta)\\frac{\\partial \\omega}{\\partial \\theta} &= r\\frac{\\partial u}{\\partial x} \\quad \\quad &  (7) + (8) = (9) \\\\\n",
    "\\cos(\\theta)\\frac{\\partial \\omega}{\\partial r} - \\frac{1}{r}\\sin(\\theta)\\frac{\\partial \\omega}{\\partial \\theta} &= \\frac{\\partial u}{\\partial x} & (10)\n",
    "\\end{align}"
   ]
  },
  {
   "cell_type": "markdown",
   "metadata": {},
   "source": [
    "Now using (6), (10), $x = rcos(\\theta)$, $y = rsin(\\theta)$ and substitute into (*):\n",
    "\\begin{align}\n",
    "rsin(\\theta)\\Big (\\cos(\\theta)\\frac{\\partial \\omega}{\\partial r} - \\frac{1}{r}\\sin(\\theta)\\frac{\\partial \\omega}{\\partial \\theta} \\Big ) -  rcos(\\theta) \\Big ( \\sin(\\theta)\\frac{\\partial \\omega}{\\partial r} + \\frac{1}{r}\\cos(\\theta)\\frac{\\partial \\omega}{\\partial \\theta} \\Big ) &= c(rcos(\\theta), rsin(\\theta), \\omega(r, \\theta)) \\\\\n",
    "\\Big( r\\sin(\\theta)\\cos(\\theta) -r\\sin(\\theta)\\cos(\\theta) \\Big)\\frac{\\partial \\omega}{\\partial r} - \\Big (\\sin^2(\\theta) + \\cos^2(\\theta)) \\Big)\\frac{\\partial \\omega}{\\partial \\theta} &= c(rcos(\\theta), rsin(\\theta), \\omega(r, \\theta)) \\\\\n",
    "-\\frac{\\partial \\omega}{\\partial \\theta} &= c(rcos(\\theta), rsin(\\theta), \\omega(r, \\theta)) \\quad (11)\\\\\n",
    "\\end{align}"
   ]
  },
  {
   "cell_type": "markdown",
   "metadata": {},
   "source": [
    "### Part (c):\n",
    "$$ y\\frac{\\partial u}{\\partial x} - x\\frac{\\partial u}{\\partial y} = 1$$\n",
    "Where $ u(x,0) = 0 \\, for \\, 0 < x < \\infty $\n",
    "\n",
    "Rewriting initial conditions:\n",
    "\\begin{align}\n",
    "\\omega(r,\\theta) &= u(r\\cos(\\theta), r\\sin(\\theta)) &= u(r\\cos(0), r\\sin(0)) &= 0  \\\\\n",
    "\\end{align}\n",
    "So $\\omega(r,0) =0$, where $0 < r\\cos(\\theta) < \\infty$.\n",
    "\n",
    "Therefore $r>0$ and $\\frac{-\\pi}{2} < \\theta < \\frac{\\pi}{2}$\n",
    "\n",
    "Rewriting the PDE:\n",
    "\\begin{align}\n",
    "-\\frac{\\partial \\omega}{\\partial \\theta} &= 1 \\\\\n",
    "\\end{align}\n",
    "\n",
    "This leads to the following:\n",
    "\\begin{align}\n",
    "ds &= \\frac{dr}{0} = \\frac{d\\theta}{-1} = \\frac{d\\omega}{1} \\\\\n",
    "\\therefore d\\omega &= -d\\theta \\\\\n",
    "\\therefore \\int d\\omega &= \\int -d\\theta \\\\\n",
    "\\therefore \\omega &= -\\theta + A \\\\\n",
    "\\therefore \\omega &= -\\theta \\quad \\quad (12) \n",
    "\\end{align}\n",
    "Note $A=0$ from initial conditions.\n"
   ]
  },
  {
   "cell_type": "markdown",
   "metadata": {},
   "source": [
    "### Part(d):\n",
    "\n",
    "The domain of influence of the initial conditions is the top-right and bottom-right quadrants of the xy-plane:\n",
    "\n",
    "$r > 0$ and $\\frac{-\\pi}{2} < \\theta < \\frac{\\pi}{2}$\n"
   ]
  },
  {
   "cell_type": "code",
   "execution_count": 2,
   "metadata": {},
   "outputs": [],
   "source": []
  },
  {
   "cell_type": "code",
   "execution_count": null,
   "metadata": {},
   "outputs": [],
   "source": []
  },
  {
   "cell_type": "markdown",
   "metadata": {},
   "source": [
    "From notes: \n",
    "The initial conditions for a first order linear PDE can restrict the set of points on which the solution exists. The resulting set of points in $\\Re^2$ is called the domain of influence.  \n",
    "\n",
    "In the problem above the domain of influence consists of all points that lie on the characteristic curve in the xy-plane which crosses the data curve $y=0, 0<x<\\infty$.  \n",
    "\n",
    "The characteristic curves have the form $x^2 + y^2 = k$. Where k is a constant.  For any point $(x_0,y_0)$ with $x_0 > 0$, we know that it lies on the characteristic curve:\n",
    "\n",
    "$$ x^2 + y^2 = x_0^2 + y_0^2, \\quad where \\, k = x_0^2 + y_0^2$$\n",
    "\n",
    "This does meet the data curve at $(x,0)$, where $x=x_0$.  Therefore the domain of influence of the above is the top right and bottom right quandrants of the xy-plane (i.e. $x>0$).\n",
    "\n"
   ]
  },
  {
   "cell_type": "code",
   "execution_count": null,
   "metadata": {},
   "outputs": [],
   "source": []
  }
 ],
 "metadata": {
  "kernelspec": {
   "display_name": "Python 3.7.6 64-bit ('base37': conda)",
   "language": "python",
   "name": "python37664bitbase37condaa4b23bafa85c4735b71c45b7bba63238"
  },
  "language_info": {
   "codemirror_mode": {
    "name": "ipython",
    "version": 3
   },
   "file_extension": ".py",
   "mimetype": "text/x-python",
   "name": "python",
   "nbconvert_exporter": "python",
   "pygments_lexer": "ipython3",
   "version": "3.7.6"
  }
 },
 "nbformat": 4,
 "nbformat_minor": 2
}
