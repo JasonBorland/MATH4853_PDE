{
 "cells": [
  {
   "cell_type": "code",
   "execution_count": 2,
   "metadata": {},
   "outputs": [],
   "source": [
    "from sympy.solvers.pde import pdsolve\n",
    "from sympy import Function, diff, Eq, exp\n",
    "from sympy.abc import x, y\n"
   ]
  },
  {
   "cell_type": "code",
   "execution_count": 3,
   "metadata": {},
   "outputs": [],
   "source": [
    "f = Function('f')\n",
    "u = f(x, y)\n",
    "ux = u.diff(x)\n",
    "uy = u.diff(y)\n",
    "eq = Eq(x*(x+y)*ux +y*(y+x)*uy, (x-y)*u)\n"
   ]
  },
  {
   "cell_type": "code",
   "execution_count": 4,
   "metadata": {},
   "outputs": [
    {
     "data": {
      "text/latex": [
       "$\\displaystyle f{\\left(x,y \\right)} = F{\\left(\\frac{y}{x} \\right)} e^{\\frac{\\left(x - y\\right) \\log{\\left(x \\right)}}{x + y}}$"
      ],
      "text/plain": [
       "Eq(f(x, y), F(y/x)*exp((x - y)*log(x)/(x + y)))"
      ]
     },
     "execution_count": 4,
     "metadata": {},
     "output_type": "execute_result"
    }
   ],
   "source": [
    "pdsolve(eq)"
   ]
  },
  {
   "cell_type": "code",
   "execution_count": 9,
   "metadata": {},
   "outputs": [],
   "source": [
    "eq2 = Eq(1*ux + exp(x)*uy, (y+u))"
   ]
  },
  {
   "cell_type": "code",
   "execution_count": 10,
   "metadata": {},
   "outputs": [
    {
     "data": {
      "text/latex": [
       "$\\displaystyle f{\\left(x,y \\right)} = - y + \\left(x + F{\\left(y - e^{x} \\right)}\\right) e^{x} + e^{x}$"
      ],
      "text/plain": [
       "Eq(f(x, y), -y + (x + F(y - exp(x)))*exp(x) + exp(x))"
      ]
     },
     "execution_count": 10,
     "metadata": {},
     "output_type": "execute_result"
    }
   ],
   "source": [
    "pdsolve(eq2)"
   ]
  },
  {
   "cell_type": "code",
   "execution_count": 12,
   "metadata": {},
   "outputs": [
    {
     "data": {
      "text/latex": [
       "$\\displaystyle f{\\left(x,y \\right)} = \\sqrt[3]{x} F{\\left(- \\frac{4 x}{3} + y \\right)}$"
      ],
      "text/plain": [
       "Eq(f(x, y), x**(1/3)*F(-4*x/3 + y))"
      ]
     },
     "execution_count": 12,
     "metadata": {},
     "output_type": "execute_result"
    }
   ],
   "source": [
    "eq3 = Eq(3*ux +4*uy, (u/x))\n",
    "pdsolve(eq3)"
   ]
  },
  {
   "cell_type": "code",
   "execution_count": 13,
   "metadata": {},
   "outputs": [
    {
     "data": {
      "text/latex": [
       "$\\displaystyle f{\\left(x,y \\right)} = F{\\left(- x + y^{2} \\right)} e^{\\frac{x^{2}}{4}}$"
      ],
      "text/plain": [
       "Eq(f(x, y), F(-x + y**2)*exp(x**2/4))"
      ]
     },
     "execution_count": 13,
     "metadata": {},
     "output_type": "execute_result"
    }
   ],
   "source": [
    "eq4 = Eq(2*y*ux +uy, (u*x*y))\n",
    "pdsolve(eq4)"
   ]
  },
  {
   "cell_type": "code",
   "execution_count": 28,
   "metadata": {},
   "outputs": [
    {
     "data": {
      "text/latex": [
       "$\\displaystyle f{\\left(x,y \\right)} = F{\\left(x - y \\right)} e^{- \\frac{x}{2} - \\frac{y}{2}} + 1$"
      ],
      "text/plain": [
       "Eq(f(x, y), F(x - y)*exp(-x/2 - y/2) + 1)"
      ]
     },
     "execution_count": 28,
     "metadata": {},
     "output_type": "execute_result"
    }
   ],
   "source": [
    "eq5 = Eq(ux +uy, (1-u))\n",
    "pdsolve(eq5)"
   ]
  },
  {
   "cell_type": "code",
   "execution_count": 29,
   "metadata": {},
   "outputs": [
    {
     "data": {
      "text/latex": [
       "$\\displaystyle f{\\left(x,y \\right)} = F{\\left(x + y \\right)} e^{\\frac{x}{x + y}}$"
      ],
      "text/plain": [
       "Eq(f(x, y), F(x + y)*exp(x/(x + y)))"
      ]
     },
     "execution_count": 29,
     "metadata": {},
     "output_type": "execute_result"
    }
   ],
   "source": [
    "eq6 = Eq(ux -uy, (u/(x+y)))\n",
    "pdsolve(eq6)"
   ]
  },
  {
   "cell_type": "code",
   "execution_count": 37,
   "metadata": {},
   "outputs": [
    {
     "data": {
      "text/latex": [
       "$\\displaystyle f{\\left(x,y \\right)} = F{\\left(x - y \\right)} e^{- \\frac{x}{2} - \\frac{y}{2}} + 1$"
      ],
      "text/plain": [
       "Eq(f(x, y), F(x - y)*exp(-x/2 - y/2) + 1)"
      ]
     },
     "execution_count": 37,
     "metadata": {},
     "output_type": "execute_result"
    }
   ],
   "source": [
    "eq7 = Eq(ux +uy +u, (1))\n",
    "pdsolve(eq7)"
   ]
  },
  {
   "cell_type": "code",
   "execution_count": 5,
   "metadata": {},
   "outputs": [
    {
     "data": {
      "text/latex": [
       "$\\displaystyle f{\\left(x,y \\right)} = \\begin{cases} F{\\left(x^{2} + y^{2} \\right)} + i \\operatorname{acosh}{\\left(\\frac{x}{\\sqrt{x^{2} + y^{2}}} \\right)} & \\text{for}\\: \\left|{\\frac{x^{2}}{x^{2} + y^{2}}}\\right| > 1 \\\\F{\\left(x^{2} + y^{2} \\right)} - \\operatorname{asin}{\\left(\\frac{x}{\\sqrt{x^{2} + y^{2}}} \\right)} & \\text{otherwise} \\end{cases}$"
      ],
      "text/plain": [
       "Eq(f(x, y), Piecewise((F(x**2 + y**2) + I*acosh(x/sqrt(x**2 + y**2)), Abs(x**2/(x**2 + y**2)) > 1), (F(x**2 + y**2) - asin(x/sqrt(x**2 + y**2)), True)))"
      ]
     },
     "execution_count": 5,
     "metadata": {},
     "output_type": "execute_result"
    }
   ],
   "source": [
    "eq8 = Eq(y*ux -x*uy, 1)\n",
    "pdsolve(eq8)"
   ]
  },
  {
   "cell_type": "code",
   "execution_count": 33,
   "metadata": {},
   "outputs": [],
   "source": [
    "import numpy as np\n",
    "import math\n",
    "import matplotlib.pyplot as plt #Matplotlib for pythons basic plotting\n",
    "import plotly"
   ]
  },
  {
   "cell_type": "code",
   "execution_count": 34,
   "metadata": {},
   "outputs": [
    {
     "name": "stderr",
     "output_type": "stream",
     "text": [
      "/Users/jasonborland/opt/anaconda3/envs/base37/lib/python3.7/site-packages/ipykernel_launcher.py:6: RuntimeWarning:\n",
      "\n",
      "invalid value encountered in power\n",
      "\n"
     ]
    },
    {
     "data": {
      "image/png": "[encoded data removed]",
      "text/plain": [
       "<Figure size 432x288 with 1 Axes>"
      ]
     },
     "metadata": {
      "needs_background": "light"
     },
     "output_type": "display_data"
    }
   ],
   "source": [
    "X = np.arange(-2, 10, 0.1)\n",
    "K= np.arange(-5,5 ,1)\n",
    "\n",
    "Y0 = np.power((X+3), 1/2)\n",
    "Y1 = np.power((X+2), 1/2)\n",
    "Y2 = np.power((X+1), 1/2)\n",
    "\n",
    "plt.plot(X, Y0,'r--',X,Y1,'g--', X,Y2,'b--')\n",
    "plt.xlabel('X')\n",
    "plt.ylabel('Y')\n",
    "plt.show()"
   ]
  },
  {
   "cell_type": "code",
   "execution_count": 35,
   "metadata": {},
   "outputs": [
    {
     "data": {
      "image/png": "[encoded data removed]",
      "text/plain": [
       "<Figure size 432x288 with 1 Axes>"
      ]
     },
     "metadata": {
      "needs_background": "light"
     },
     "output_type": "display_data"
    }
   ],
   "source": [
    "X = np.arange(-2*math.pi, 2*math.pi, math.pi/10)\n",
    "K= np.arange(-5,5 ,1)\n",
    "\n",
    "Y0 = np.sin((X)) -1\n",
    "Y1 = np.sin((X)) +0\n",
    "Y2 = np.sin((X)) +1\n",
    "\n",
    "plt.plot(X, Y0,'r--',X,Y1,'g--', X,Y2,'b--')\n",
    "plt.xlabel('X')\n",
    "plt.ylabel('Y')\n",
    "plt.show()"
   ]
  },
  {
   "cell_type": "code",
   "execution_count": null,
   "metadata": {},
   "outputs": [],
   "source": []
  }
 ],
 "metadata": {
  "kernelspec": {
   "display_name": "Python 3.7.6 64-bit ('base37': conda)",
   "language": "python",
   "name": "python37664bitbase37condaa4b23bafa85c4735b71c45b7bba63238"
  },
  "language_info": {
   "codemirror_mode": {
    "name": "ipython",
    "version": 3
   },
   "file_extension": ".py",
   "mimetype": "text/x-python",
   "name": "python",
   "nbconvert_exporter": "python",
   "pygments_lexer": "ipython3",
   "version": "3.7.6"
  }
 },
 "nbformat": 4,
 "nbformat_minor": 2
}
