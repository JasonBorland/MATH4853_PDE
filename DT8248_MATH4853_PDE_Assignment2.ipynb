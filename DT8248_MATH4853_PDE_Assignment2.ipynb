{
 "cells": [
  {
   "cell_type": "markdown",
   "metadata": {},
   "source": [
    "## DT8248 MATH4854 Introduction to PDEs Assiginment 2\n",
    "### Name: Jason Borland\n",
    "### Student Number: D17129310"
   ]
  },
  {
   "cell_type": "markdown",
   "metadata": {},
   "source": [
    "### Question 1: \n",
    "Use separation of variables to solve the problem:\n",
    "\n",
    "\\begin{align}\n",
    "\\Big ( \\frac{\\partial u}{\\partial x} \\Big ) \\Big( \\frac{\\partial u}{\\partial y} \\Big ) &= xy\n",
    "\\end{align}\n",
    "where $u(0,y) = -y^2$ for $ y \\in \\mathbb{R}$\n"
   ]
  },
  {
   "cell_type": "markdown",
   "metadata": {},
   "source": [
    "Solution: We have two options\n",
    "\\begin{align}\n",
    "u(x,y) &= f(x)g(y) \\quad (1) \\\\\n",
    "u(x,y) &= f(x) + g(y) \\quad (2) \\\\\n",
    "\\end{align}\n",
    "\n",
    "Try Option 2:\n",
    "\\begin{align}\n",
    "u(x,y) &= f(x) + g(y) \\quad (1) \\\\\n",
    "\\therefore \\frac{\\partial u}{\\partial x} &= f'(x) \\\\\n",
    "\\therefore \\frac{\\partial u}{\\partial y} &= g'(y) \\\\\n",
    "\\therefore ( \\frac{\\partial u}{\\partial x} \\Big ) \\Big( \\frac{\\partial u}{\\partial y} \\Big ) &= (f'(x))(g'(y)) = xy \\\\\n",
    "\\therefore f'(x)g'y) &= xy \\\\\n",
    "\\therefore \\frac{f'(x)}{x} &= \\frac{y}{g'(y)} \\\\\n",
    "\\end{align}\n",
    "\n",
    "Since the LHS depends on x alone, and the RHS depends on y alone, therefore:\n",
    "\\begin{align}\n",
    "\\frac{f'(x)}{x} &= \\lambda \\quad (3) \\\\\n",
    "\\frac{y}{g'(y)}  &= \\lambda \\quad (4) \\\\\n",
    "\\end{align}\n",
    "\n",
    "Solving (3):\n",
    "\\begin{align}\n",
    "\\frac{f'(x)}{x} &= \\lambda \\quad (3) \\\\\n",
    "\\therefore f'(x) &= \\lambda x \\\\\n",
    "\\therefore f(x) &= \\frac{\\lambda x^2}{2} + A \\quad (5)\\\\\n",
    "\\end{align}\n",
    "\n",
    "Solving (4):\n",
    "\\begin{align}\n",
    "\\frac{y}{g'(y)}  &= \\lambda \\quad (4) \\\\\n",
    "\\therefore g'(y) &= \\frac{y}{\\lambda}  \\\\\n",
    "\\therefore g(y) &= \\frac{y^2}{2 \\lambda} + B \\quad (6)\\\\\n",
    "\\end{align}\n",
    "\n",
    "Therefore using (5) and (6) to sub into (2):\n",
    "\\begin{align}\n",
    "u(x,y) &= f(x) + g(y) \\quad (2) \\\\\n",
    "\\therefore u(x,y) &= \\frac{\\lambda x^2}{2} + A \\frac{y^2}{2 \\lambda} + B\\\\\n",
    "\\therefore u(x,y) &= \\frac{\\lambda x^2}{2} + \\frac{y^2}{2 \\lambda} + C \\quad C=A+B\\\\\n",
    "\\therefore u(0,y) &= 0 + \\frac{y^2}{2 \\lambda} +C = -y^2 \\\\\n",
    "\\therefore C &=0 \\, and \\, \\lambda = \\frac{-1}{2} \\\\\n",
    "\\therefore u(x,y) &= \\frac{-x^2}{4}  -y^2 \\\\\n",
    "\\end{align}\n"
   ]
  },
  {
   "cell_type": "markdown",
   "metadata": {},
   "source": [
    "### Question 2:\n",
    "Use the parametric form of the Lagrange-Charpit equations to solve the problem:\n",
    "\\begin{align}\n",
    "\\Big ( \\frac{\\partial u}{\\partial x} \\Big ) \\Big( \\frac{\\partial u}{\\partial y} \\Big ) &= xy\n",
    "\\end{align}\n",
    "where $u(0,y) = -y^2$ for $ y \\in \\mathbb{R}$\n"
   ]
  },
  {
   "cell_type": "markdown",
   "metadata": {},
   "source": []
  },
  {
   "cell_type": "markdown",
   "metadata": {},
   "source": [
    "### Question 3: \n",
    "Determine the general solution of the equation:\n",
    "\\begin{align}\n",
    "\\frac{\\partial^2 u}{\\partial x^2} - \\frac{\\partial^2 u}{\\partial y \\partial x} -6\\frac{\\partial^2 u}{\\partial y^2} &= 0 \\\\\n",
    "\\end{align}\n",
    "\n",
    "By factorising the relevent linear differential operator."
   ]
  },
  {
   "cell_type": "markdown",
   "metadata": {},
   "source": [
    "Looking for factorisation of the form:\n",
    "\\begin{align}\n",
    "\\Bigg ( A\\frac{\\partial}{\\partial x} + B\\frac{\\partial}{\\partial y}  \\Bigg ) \\Bigg ( C\\frac{\\partial}{\\partial x} + D\\frac{\\partial}{\\partial y}  \\Bigg ) u &= 0 \\\\\n",
    "\\end{align}\n",
    "\n",
    "The process of finding the constants A, B, C and D can be greatly simplified if we simply factorise the characteristic equation $r^2 -r -6$, which is the following $(r +2)(r -3)$.  Thus we have the following:\n",
    "\n",
    "\\begin{align}\n",
    "\\Bigg ( \\frac{\\partial}{\\partial x} + 2\\frac{\\partial}{\\partial y}  \\Bigg ) \\Bigg ( \\frac{\\partial}{\\partial x} - 3\\frac{\\partial}{\\partial y}  \\Bigg ) u &= 0 \\\\\n",
    "\\end{align}\n",
    "\n",
    "Which gives us the following system of ODEs to solve:\n",
    "\\begin{align}\n",
    "v &= \\frac{\\partial u}{\\partial x} -3\\frac{\\partial u}{\\partial y}  \\quad (1)\\\\\n",
    "0 &= \\frac{\\partial v}{\\partial x} +2\\frac{\\partial v}{\\partial y} \\quad (2) \\\\\n",
    "\\end{align}\n",
    "\n",
    "We now solve Equation 2 by using the Method of Characteristics:\n",
    "\n",
    "\\begin{align}\n",
    "\\frac{\\partial v}{\\partial x} +2\\frac{\\partial v}{\\partial y} &= 0\\quad (2)  \\\\\n",
    "\\therefore \\frac{dy}{dx} &= \\frac{b}{a} = \\frac{2}{1} = 2  \\quad (3)\\\\\n",
    "\\therefore \\frac{dv}{dx} &= \\frac{c}{a} =\\frac{0}{1} \\quad (4) \\\\\n",
    "\\end{align}\n",
    "\n",
    "\n",
    "Solving Equation 3:\n",
    "\\begin{align}\n",
    "\\frac{dy}{dx} &= 2  \\quad (3)\\\\\n",
    "\\therefore y &= 2x + k \\\\\n",
    "\\therefore k &= y - 2x \\\\\n",
    "\\end{align}\n",
    "\n",
    "Solving Equation 4:\n",
    "\\begin{align}\n",
    "\\frac{dv}{dx} &= 0  \\quad (4)\\\\\n",
    "\\therefore v &= f(k) \\\\\n",
    "\\therefore v &= f(y - 2x) \\quad (5)\\\\\n",
    "\\end{align}\n",
    "\n",
    "Using (5) in (1) to solve:\n",
    "\\begin{align}\n",
    "v &= \\frac{\\partial u}{\\partial x} -3\\frac{\\partial u}{\\partial y} = f(y -2x) \\\\\n",
    "\\therefore \\frac{dy}{dx} &= \\frac{b}{a} = \\frac{-3}{1} = -3  \\quad (6)\\\\\n",
    "\\therefore \\frac{du}{dx} &= \\frac{c}{a} =\\frac{f(y -2x)}{1} \\quad (7) \\\\\n",
    "\\end{align}\n",
    "\n",
    "Solving (6):\n",
    "\\begin{align}\n",
    "\\frac{dy}{dx} &= \\frac{b}{a} = \\frac{-3}{1} = -3  \\quad (6)\\\\\n",
    "\\therefore y &= -3x + L \\\\\n",
    "\\therefore L &= y+ 3x \\\\\n",
    "\\end{align}\n",
    "\n",
    "Solving (7):\n",
    "\\begin{align}\n",
    "\\frac{du}{dx} &= f(y -2x) \\quad (7) \\\\\n",
    "\\therefore u &= \\int f(y - 2x)dx + g(L) \\quad where \\, g \\, is \\, an \\, arbitary \\, function \\\\\n",
    "\\therefore u &= \\int f(y - 2x)dx + g(L) = \\int f(w)(-2)dw + g(L) \\quad w = y -2x \\\\\n",
    "\\therefore u &= -2 \\int f(w)dw  + g(L)\\\\\n",
    "\\therefore u &= h(w) + g(L) \\quad where \\, h \\, is\\, an \\, arbitary \\, function\\\\\n",
    "\\therefore u &= h(y - 2x) + g(y + 3x) \\\\\n",
    "\\end{align}\n",
    "\n"
   ]
  },
  {
   "cell_type": "code",
   "execution_count": null,
   "metadata": {},
   "outputs": [],
   "source": []
  },
  {
   "cell_type": "code",
   "execution_count": null,
   "metadata": {},
   "outputs": [],
   "source": []
  }
 ],
 "metadata": {
  "kernelspec": {
   "display_name": "Python 3.7.6 64-bit ('base37': conda)",
   "language": "python",
   "name": "python37664bitbase37condaa4b23bafa85c4735b71c45b7bba63238"
  },
  "language_info": {
   "codemirror_mode": {
    "name": "ipython",
    "version": 3
   },
   "file_extension": ".py",
   "mimetype": "text/x-python",
   "name": "python",
   "nbconvert_exporter": "python",
   "pygments_lexer": "ipython3",
   "version": "3.7.6"
  }
 },
 "nbformat": 4,
 "nbformat_minor": 2
}
