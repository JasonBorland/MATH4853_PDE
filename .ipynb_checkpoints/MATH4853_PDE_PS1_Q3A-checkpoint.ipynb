{
 "cells": [
  {
   "cell_type": "markdown",
   "metadata": {},
   "source": [
    "# DT8248 Introduction to PDEs Problem Set 1"
   ]
  },
  {
   "cell_type": "markdown",
   "metadata": {},
   "source": [
    "## Question 3a"
   ]
  },
  {
   "cell_type": "markdown",
   "metadata": {},
   "source": [
    "\\begin{align}\n",
    "\\frac{\\partial u}{\\partial x} +\\, \\frac{\\partial u}{\\partial y} +\\, u & = 1\n",
    "\\end{align}"
   ]
  },
  {
   "cell_type": "markdown",
   "metadata": {},
   "source": [
    "\\begin{equation*}\n",
    "u(x,0) = x^2 \\quad\\quad x > 0\n",
    "\\end{equation*}"
   ]
  },
  {
   "cell_type": "markdown",
   "metadata": {},
   "source": [
    "### Solve using Parametric form of Method of Characteristics "
   ]
  },
  {
   "cell_type": "markdown",
   "metadata": {},
   "source": [
    "\\begin{align}\n",
    "\\frac{dx}{dt}  & = 1 \\quad\\quad & (1)\\\\\n",
    "\\frac{dy}{dt}  & = 1 \\quad\\quad  & (2)\\\\\n",
    "\\frac{du}{dt}  & = 1-u \\quad\\quad & (3)\\\\\n",
    "\\end{align}"
   ]
  },
  {
   "cell_type": "markdown",
   "metadata": {},
   "source": [
    "We need to parameterize the initial conditions. Let s be the parameter along the data curve.  Let (s,0) be a typical point along the data curve.  s > 0. The initial conditions tell us that:\n",
    "\n",
    "\\begin{equation*}\n",
    "u = s^2, \\quad\\quad at \\quad (s,0),\\, \\quad s > 0 \\\\\n",
    "\\end{equation*}\n",
    "\n",
    "At t = 0: \n",
    "\\begin{equation*}\n",
    "x = s, \\quad y = 0, \\quad u = s^2 \n",
    "\\end{equation*}\n",
    "\n",
    "\n",
    "\n"
   ]
  },
  {
   "cell_type": "markdown",
   "metadata": {},
   "source": [
    "### Solving Equation (1)\n"
   ]
  },
  {
   "cell_type": "markdown",
   "metadata": {},
   "source": [
    "\\begin{align}\n",
    "\\frac{dx}{dt}  & = 1 \\quad\\quad \\\\\n",
    "\\therefore \\int dx & = \\int dt \\\\\n",
    "\\therefore x & = t + A\n",
    "\\end{align}\n",
    "\n",
    "When t = 0, x = s.\n",
    "\\begin{align}\n",
    "\\therefore s & = 0 + A \\\\\n",
    "\\therefore A & = s \\\\\n",
    "\\therefore x & = t + s\n",
    "\\end{align}"
   ]
  },
  {
   "cell_type": "markdown",
   "metadata": {},
   "source": [
    "### Solving Equation (2)"
   ]
  },
  {
   "cell_type": "markdown",
   "metadata": {},
   "source": [
    "\\begin{align}\n",
    "\\frac{dy}{dt}  & = 1 \\quad\\quad\\\\\n",
    "\\therefore \\int dy & = \\int dt \\\\\n",
    "\\therefore y & = t + B\n",
    "\\end{align}\n",
    "\n",
    "When t = 0, y = 0.\n",
    "\\begin{align}\n",
    "\\therefore 0 & = 0 + B \\\\\n",
    "\\therefore B & = 0 \\\\\n",
    "\\therefore y & = t\n",
    "\\end{align}"
   ]
  },
  {
   "cell_type": "markdown",
   "metadata": {},
   "source": [
    "### Solving Equation 3\n",
    "\\begin{align}\n",
    "& \\frac{du}{dt}  & = 1 - u \\\\\n",
    "& \\therefore \\quad \\int \\frac{1}{1-u} du &= \\int dt \\\\\n",
    "& \\therefore \\quad \\int \\frac{1}{u-1} du &= -\\int dt \\\\\n",
    "& \\therefore \\quad \\ln \\vert(u-1)\\vert & = -t + C \\\\\n",
    "& \\therefore \\quad \\vert(u-1)\\vert &= e^{-t + C} \\\\\n",
    "& \\therefore \\quad \\vert(u-1)\\vert &= e^{C}e^{-t} \\\\\n",
    "& \\therefore \\quad u - 1 & = \\pm e^{C}e^{-t} \\\\ \n",
    "& \\therefore \\quad u &= De^{-t} +1 \n",
    "\\end{align}\n",
    "\n",
    "When t=0, $s^2$\n",
    "\\begin{align}\n",
    "    \n",
    "\\end{align}"
   ]
  },
  {
   "cell_type": "code",
   "execution_count": null,
   "metadata": {},
   "outputs": [],
   "source": []
  },
  {
   "cell_type": "code",
   "execution_count": null,
   "metadata": {},
   "outputs": [],
   "source": []
  }
 ],
 "metadata": {
  "kernelspec": {
   "display_name": "Python 3.7.6 64-bit ('base37': conda)",
   "language": "python",
   "name": "python37664bitbase37condaa4b23bafa85c4735b71c45b7bba63238"
  },
  "language_info": {
   "codemirror_mode": {
    "name": "ipython",
    "version": 3
   },
   "file_extension": ".py",
   "mimetype": "text/x-python",
   "name": "python",
   "nbconvert_exporter": "python",
   "pygments_lexer": "ipython3",
   "version": "3.7.6"
  }
 },
 "nbformat": 4,
 "nbformat_minor": 4
}
