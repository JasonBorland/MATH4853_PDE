{
 "cells": [
  {
   "cell_type": "markdown",
   "metadata": {},
   "source": [
    "## Problem Sheet 2: Q3b\n",
    "\n",
    "Find, in parametric form, the solution to the PDE and hence obtain a relationship between $u, x, y$ in:\n",
    "\n",
    "$$ uu_x + u_y = 1 $$\n",
    "Where $u = \\frac{s}{2}$ when $x=s=y$ for $0 \\le s \\le 1$"
   ]
  },
  {
   "cell_type": "markdown",
   "metadata": {},
   "source": [
    "\\begin{align}\n",
    "\\frac{dx}{dt}  & = u & (1)\\\\\n",
    "\\frac{dy}{dt}  & = 1 & (2) \\\\\n",
    "\\frac{du}{dt}  & = 1 & (3) \\\\\n",
    "\\end{align}"
   ]
  },
  {
   "cell_type": "markdown",
   "metadata": {},
   "source": [
    "Solving Equation 2\n",
    "\n",
    "\\begin{align}\n",
    "\\frac{dy}{dt}  & = 1 \\quad\\quad \\\\\n",
    "\\therefore \\int dy & = \\int dt \\\\\n",
    "\\therefore y & = t + A\n",
    "\\end{align}\n",
    "\n",
    "When t = 0, y = s.\n",
    "\\begin{align}\n",
    "\\therefore s & = 0 + A \\\\\n",
    "\\therefore A & = s \\\\\n",
    "\\therefore y & = t + s  & (4)\n",
    "\\end{align}"
   ]
  },
  {
   "cell_type": "markdown",
   "metadata": {},
   "source": [
    "Solving Equation 3\n",
    "\n",
    "\\begin{align}\n",
    "\\frac{du}{dt}  & = 1 \\quad\\quad \\\\\n",
    "\\therefore \\int du & = \\int dt \\\\\n",
    "\\therefore u & = t + B\n",
    "\\end{align}\n",
    "\n",
    "When t = 0, $u = \\frac{s}{2}$.\n",
    "\\begin{align}\n",
    "\\therefore \\frac{s}{2} & = 0 + B \\\\\n",
    "\\therefore B & = \\frac{s}{2} \\\\\n",
    "\\therefore u & = t + \\frac{s}{2} & (5)\n",
    "\\end{align}"
   ]
  },
  {
   "cell_type": "markdown",
   "metadata": {},
   "source": [
    "Solving Equation 1 using (5)\n",
    "\n",
    "\\begin{align}\n",
    "\\frac{dx}{dt}  & = u \\quad\\quad \\\\\n",
    "\\frac{dx}{dt}  & = t + \\frac{s}{2} \\quad\\quad \\\\\n",
    "\\therefore \\int dx & = \\int t + \\frac{s}{2} dt \\\\\n",
    "\\therefore x & = t^2 + \\frac{s}{2}t + C\n",
    "\\end{align}\n",
    "\n",
    "When t = 0, $x = s$.\n",
    "\\begin{align}\n",
    "\\therefore s & = 0 + 0 +C \\\\\n",
    "\\therefore C & = s \\\\\n",
    "\\therefore x & = t^2 + \\frac{s}{2}t + s & (6)\n",
    "\\end{align}"
   ]
  },
  {
   "cell_type": "markdown",
   "metadata": {},
   "source": [
    "Need to eliminate $s$ and $t$ from (4), (5), and (6)\n",
    "\n",
    "\\begin{align}\n",
    "x & = t^2 + \\frac{s}{2}t + s \\\\\n",
    "\\therefore x & = t(t + \\frac{s}{2}) + s \\\\\n",
    "\\therefore x & = tu + s & (7) \\,& as \\, u =t + \\frac{s}{2} \\\\\n",
    "\\end{align}"
   ]
  },
  {
   "cell_type": "markdown",
   "metadata": {},
   "source": [
    "From (5): $s = 2u - 2t$ (8)\n",
    "From (7) using (8):\n",
    "\\begin{align}\n",
    "x & = tu + 2u -2t \\\\\n",
    "\\therefore x &= t(u-2) +2u \\\\\n",
    "\\therefore t(u-2) &= x -2u \\\\\n",
    "\\therefore t = \\frac{x - 2u}{u-2} & (9)\\\\\n",
    "\\end{align}\n",
    "\n",
    "From (4):\n",
    "\\begin{align}\n",
    "y & = t +s \\\\\n",
    "\\therefore s &= y -t \\\\\n",
    "\\therefore s &= y - \\frac{x - 2u}{u-2} & (10)\\\\\n",
    "\\end{align}\n",
    "\n",
    "Sub (9) and (10) in (7):\n",
    "\\begin{align}\n",
    "x &= tu + s \\\\\n",
    "\\therefore x &= u\\frac{x - 2u}{u-2} + y - \\frac{x - 2u}{u-2} \\\\\n",
    "\\therefore (x - y)(u-2) & = ux - 2u^2 - x + 2u \\\\\n",
    "\\therefore xu -2x -yu + 2y & = ux - 2u^2 - x + 2u \\\\\n",
    "\\therefore 2u^2 -u(y+2) &= x - 2y\\\\\n",
    "\\end{align}"
   ]
  },
  {
   "cell_type": "markdown",
   "metadata": {},
   "source": [
    "Doesn't seem much point simplifying further (could use quadratic formula)."
   ]
  },
  {
   "cell_type": "code",
   "execution_count": null,
   "metadata": {},
   "outputs": [],
   "source": []
  }
 ],
 "metadata": {
  "kernelspec": {
   "display_name": "Python 3.7.6 64-bit ('base37': conda)",
   "language": "python",
   "name": "python37664bitbase37condaa4b23bafa85c4735b71c45b7bba63238"
  },
  "language_info": {
   "codemirror_mode": {
    "name": "ipython",
    "version": 3
   },
   "file_extension": ".py",
   "mimetype": "text/x-python",
   "name": "python",
   "nbconvert_exporter": "python",
   "pygments_lexer": "ipython3",
   "version": "3.7.6"
  }
 },
 "nbformat": 4,
 "nbformat_minor": 2
}
