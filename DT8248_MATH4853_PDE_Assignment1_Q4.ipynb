{
 "cells": [
  {
   "cell_type": "markdown",
   "metadata": {},
   "source": [
    "## DT8248 MATH4853 Introduction to Partial Differential Equations Assignment 1\n",
    "## Lecturer: Colum Watt\n",
    "## Student Name: Jason Borland \n",
    "## Student Number: D17129310\n",
    "\n",
    "## Question 4"
   ]
  },
  {
   "cell_type": "markdown",
   "metadata": {},
   "source": [
    "Assume that the function $u(x,t) is defined implicitly by:\n",
    "\n",
    "$$ u = t^3 + f(x - 4tu + 3t^4) \\quad (1)$$\n",
    "\n",
    "where f is an unknown differentiable function.\n",
    "\n",
    "(a) Use implicit differentiation to obtain expressions for $u_x$, and $u_t$ in terms of x, t, and f.\n",
    "\n",
    "(b) Prove that u satisfies a partial differential equation of the form:\n",
    "\n",
    "$$\\frac{\\partial u}{\\partial t} + 4u\\frac{\\partial u}{\\partial x} = \\phi(t)$$\n",
    "for some function $\\phi(t)$ which you should determine.\n",
    "\n",
    "(c) Use the method of characteristics to determine the general solution to this partial differential equation.\n"
   ]
  },
  {
   "cell_type": "markdown",
   "metadata": {},
   "source": [
    "### Part(a):\n",
    "\n",
    "Simplify equation (1), using $\\omega = x - 4tu + 3t^4$:\n",
    "\\begin{align}\n",
    "u &= t^3 + f(\\omega) \\\\\n",
    "\\therefore u_x &= 0 + \\omega_xf'(\\omega) \\\\\n",
    "since \\, \\omega_x &= 1 - 4tu_x \\\\\n",
    "\\therefore u_x &= (1 - 4tu_x)f'(\\omega) \\\\\n",
    "\\therefore u_x + 4tf'(\\omega)u_x &= f'(\\omega) \\\\\n",
    "\\therefore u_x &= \\frac{f'(\\omega)}{1 + 4tf'(\\omega)} & (2)\\\\\n",
    "\\end{align}\n",
    "\n",
    "\\begin{align}\n",
    "u &= t^3 + f(\\omega) \\\\\n",
    "\\therefore u_t &= 3t^2 + \\omega_tf'(\\omega) \\\\\n",
    "since \\, \\omega_t &= 0 -4u -4tu_t + 12t^3 = 12t^3 - 4u - 4tu_t\\\\\n",
    "\\therefore u_t &= 3t^2 + (12t^3 - 4u - 4tu_t)f'(\\omega) \\\\\n",
    "\\therefore u_t + 4tf'(\\omega)u_t &= 3t^2 + (12t^3 -4u)f'(\\omega) \\\\\n",
    "\\therefore u_t &= \\frac{3t^2 + (12t^3 -4u)f'(\\omega)}{1 + 4tf'(\\omega)}\\\\\n",
    "\\therefore u_t &= \\frac{3t^2 + \\lbrack 12t^3 -4(t^3 + f(\\omega))\\rbrack f'(\\omega)}{1 + 4tf'(\\omega)} \\\\\n",
    "\\therefore u_t &= \\frac{3t^2 + \\lbrack 8t^3 -4f(\\omega))\\rbrack f'(\\omega)}{1 + 4tf'(\\omega)} &(3) \\\\\n",
    "\\end{align}\n"
   ]
  },
  {
   "cell_type": "markdown",
   "metadata": {},
   "source": [
    "### Part(b):\n",
    "\\begin{align}\n",
    "\\frac{\\partial u}{\\partial t} + 4u\\frac{\\partial u}{\\partial x} &= \\phi(t) \\\\\n",
    "u_t &= \\frac{3t^2 + 8t^3f'(\\omega) - 4f(\\omega)f'(\\omega)}{1 + 4tf'(\\omega)}\\\\\n",
    "u_x &= \\frac{f'(\\omega)}{1 + 4tf'(\\omega)} \\\\\n",
    "4uu_x &= \\frac{4t^3f'(\\omega) + 4f(\\omega)f'(\\omega)}{1 + 4tf'(\\omega)} \\\\\n",
    "\\end{align}\n",
    "\n",
    "\\begin{align}\n",
    "\\therefore \\frac{3t^2 + 8t^3f'(\\omega) - 4f(\\omega)f'(\\omega)}{1 + 4tf'(\\omega)} + \\frac{4t^3f'(\\omega) + 4f(\\omega)f'(\\omega)}{1 + 4tf'(\\omega)} & = \\phi(t) \\\\\n",
    "\\therefore \\frac{3t^2 + 12t^3f'(\\omega)}{1 + 4tf'(\\omega)} & = \\phi(t) \\\\\n",
    "\\therefore 3t^2\\frac{1 + 4tf'(\\omega)}{1 + 4tf'(\\omega)} & = \\phi(t) \\\\\n",
    "\\therefore 3t^2 &= \\phi(t) \\\\\n",
    "\\end{align}"
   ]
  },
  {
   "cell_type": "markdown",
   "metadata": {},
   "source": [
    "### Part (c):\n",
    "$$\\frac{\\partial u}{\\partial t} + 4u\\frac{\\partial u}{\\partial x} = 3t^2 $$\n",
    "\n",
    "This leads to the following system of ODEs:\n",
    "\n",
    "\\begin{align}\n",
    "\\frac{dt}{ds} &= 1  & (4)\\\\\n",
    "\\frac{dx}{ds} &= 4u  & (5)\\\\\n",
    "\\frac{du}{ds} &= 3t^2  & (6)\\\\\n",
    "ds &= \\frac{dt}{1} = \\frac{dx}{4u} = \\frac{du}{3t^2}\n",
    "\\end{align}\n",
    "\n",
    "Taking equation (4) and (6) gives:\n",
    "\\begin{align}\n",
    "\\frac{dt}{1} &= \\frac{du}{3t^2} \\\\\n",
    "\\therefore 3t^2dt &= du  \\\\\n",
    "\\therefore \\int 3t^2dt &= \\int du \\\\\n",
    "\\therefore u = t^3 + A & (7)\\\\\n",
    "\\therefore \\varphi &= u - t^3 \\quad is\\, a\\, first\\, integral \\\\\n",
    "\\end{align}\n",
    "\n",
    "Substitute (7) in (5) and then combine with (4) gives:\n",
    "\\begin{align}\n",
    "\\frac{dt}{1} &= \\frac{dx}{4t^3 + 4A} \\\\\n",
    "\\therefore (4t^3 + 4A)dt &= dx \\\\\n",
    "\\therefore \\int (4t^3 + 4A)dt &= \\int dx \\\\\n",
    "\\therefore t^4 +4tA + B &= x \\\\\n",
    "\\therefore t^4 +4t(u - t^3) + B &= x \\\\\n",
    "\\therefore \\psi = B &= x - 4tu + 3t^4 \\quad is\\, a\\, first\\, integral \\\\\n",
    "\\end{align}\n",
    "\n",
    "Thus the general solution is:\n",
    "$$ u - t^3 = F(x - 4tu + 3t^4) $$"
   ]
  },
  {
   "cell_type": "code",
   "execution_count": null,
   "metadata": {},
   "outputs": [],
   "source": []
  }
 ],
 "metadata": {
  "kernelspec": {
   "display_name": "Python 3.7.6 64-bit ('base37': conda)",
   "language": "python",
   "name": "python37664bitbase37condaa4b23bafa85c4735b71c45b7bba63238"
  },
  "language_info": {
   "codemirror_mode": {
    "name": "ipython",
    "version": 3
   },
   "file_extension": ".py",
   "mimetype": "text/x-python",
   "name": "python",
   "nbconvert_exporter": "python",
   "pygments_lexer": "ipython3",
   "version": "3.7.6"
  }
 },
 "nbformat": 4,
 "nbformat_minor": 2
}
