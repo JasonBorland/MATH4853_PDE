{
 "cells": [
  {
   "cell_type": "markdown",
   "metadata": {},
   "source": [
    "## DT8248 MATH4853 Introduction to Partial Differential Equations Assignment 1\n",
    "## Lecturer: Colum Watt\n",
    "## Student Name: Jason Borland \n",
    "## Student Number: D17129310\n",
    "\n",
    "## Question 4"
   ]
  },
  {
   "cell_type": "markdown",
   "metadata": {},
   "source": [
    "Assume that the function $u(x,t) is defined implicitly by:\n",
    "\n",
    "$$ u = t^3 + f(x - 4tu + 3t^4) \\quad (1)$$\n",
    "\n",
    "where f is an unknown differentiable function.\n",
    "\n",
    "(a) Use implicit differentiation to obtain expressions for $u_x$, and $u_t$ in terms of x, t, and f.\n",
    "\n",
    "(b) Prove that u satisfies a partial differential equation of the form:\n",
    "\n",
    "$$\\frac{\\partial u}{\\partial t} + 4u\\frac{\\partial u}{\\partial x} = \\phi(t)$$\n",
    "for some function $\\phi(t)$ which you should determine.\n",
    "\n",
    "(c) Use the method of characteristics to determine the general solution to this partial differential equation.\n"
   ]
  },
  {
   "cell_type": "markdown",
   "metadata": {},
   "source": [
    "### Part(a):\n",
    "\n",
    "Simplify equation (1), using $\\omega = x - 4tu + 3t^4$:\n",
    "\\begin{align}\n",
    "u &= t^3 + f(\\omega) \\\\\n",
    "\\therefore u_x &= 0 + \\omega_xf_x\\omega_x \\\\\n",
    "since \\, \\omega_x &= 1 + 4tu_x \\\\\n",
    "\\therefore u_x &= (1 + 4tu_x)f_x(\\omega) \\\\\n",
    "\\therefore u_x &= (1 + 4tu_x)f_x(x - 4tu + 3t^4) & (2)\\\\\n",
    "\\end{align}\n",
    "\n",
    "\\begin{align}\n",
    "u &= t^3 + f(\\omega) \\\\\n",
    "\\therefore u_t &= 3t^2 + \\omega_tf_t(\\omega) \\\\\n",
    "since \\, \\omega_t &= 0 -4u -4tu_t + 12t^3 = 12t^3 - 4u - 4tu_t\\\\\n",
    "\\therefore u_t &= 3t^2 + (12t^3 - 4u - 4tu_t)f_t(\\omega) \\\\\n",
    "\\therefore u_t &= 3t^2 + (12t^3 - 4u - 4tu_t)f_t(x - 4tu + 3t^4) &(3) \\\\\n",
    "\\end{align}\n"
   ]
  },
  {
   "cell_type": "markdown",
   "metadata": {},
   "source": [
    "### Part(b):\n",
    "\\begin{align}\n",
    "\\frac{\\partial u}{\\partial t} + 4u\\frac{\\partial u}{\\partial x} = \\phi(t) \\\\\n",
    "\n",
    "\\end{align}"
   ]
  },
  {
   "cell_type": "code",
   "execution_count": null,
   "metadata": {},
   "outputs": [],
   "source": []
  }
 ],
 "metadata": {
  "kernelspec": {
   "display_name": "Python 3.7.6 64-bit ('base37': conda)",
   "language": "python",
   "name": "python37664bitbase37condaa4b23bafa85c4735b71c45b7bba63238"
  },
  "language_info": {
   "codemirror_mode": {
    "name": "ipython",
    "version": 3
   },
   "file_extension": ".py",
   "mimetype": "text/x-python",
   "name": "python",
   "nbconvert_exporter": "python",
   "pygments_lexer": "ipython3",
   "version": "3.7.6"
  }
 },
 "nbformat": 4,
 "nbformat_minor": 2
}
