{
 "cells": [
  {
   "cell_type": "markdown",
   "metadata": {},
   "source": [
    "## DT8248 MATH4853 Introduction to Partial Differential Equations Assignment 1\n",
    "## Lecturer: Colum Watt\n",
    "## Student Name: Jason Borland \n",
    "## Student Number: D17129310\n",
    "\n",
    "## Question 4"
   ]
  },
  {
   "cell_type": "markdown",
   "metadata": {},
   "source": [
    "Assume that the function $u(x,t) is defined implicitly by:\n",
    "\n",
    "$$ u = t^3 + f(x - 4tu + 3t^4) \\quad (1)$$\n",
    "\n",
    "where f is an unknown differentiable function.\n",
    "\n",
    "(a) Use implicit differentiation to obtain expressions for $u_x$, and $u_t$ in terms of x, t, and f.\n",
    "\n",
    "(b) Prove that u satisfies a partial differential equation of the form:\n",
    "\n",
    "$$\\frac{\\partial u}{\\partial t} + 4u\\frac{\\partial u}{\\partial x} = \\phi(t)$$\n",
    "for some function $\\phi(t)$ which you should determine.\n",
    "\n",
    "(c) Use the method of characteristics to determine the general solution to this partial differential equation.\n"
   ]
  },
  {
   "cell_type": "markdown",
   "metadata": {},
   "source": [
    "### Part(a):\n",
    "\n",
    "Simplify equation (1), using $\\omega = x - 4tu + 3t^4$:\n",
    "\\begin{align}\n",
    "u &= t^3 + f(\\omega) \\\\\n",
    "\\therefore u_x &= 0 + \\omega_xf_x(\\omega) \\\\\n",
    "since \\, \\omega_x &= 1 - 4tu_x \\\\\n",
    "\\therefore u_x &= (1 - 4tu_x)f_x(\\omega) \\\\\n",
    "\\therefore u_x + 4tf_x(\\omega)u_x &= f_x(\\omega) \\\\\n",
    "\\therefore u_x &= \\frac{f_x(\\omega)}{1 + 4tf_x(\\omega)} & (2)\\\\\n",
    "\\end{align}\n",
    "\n",
    "\\begin{align}\n",
    "u &= t^3 + f(\\omega) \\\\\n",
    "\\therefore u_t &= 3t^2 + \\omega_tf_t(\\omega) \\\\\n",
    "since \\, \\omega_t &= 0 -4u -4tu_t + 12t^3 = 12t^3 - 4u - 4tu_t\\\\\n",
    "\\therefore u_t &= 3t^2 + (12t^3 - 4u - 4tu_t)f_t(\\omega) \\\\\n",
    "\\therefore u_t + 4tf_t(\\omega)u_t &= 3t^2 + (12t^3 -4u)f_t(\\omega) \\\\\n",
    "\\therefore u_t &= \\frac{3t^2 + (12t^3 -4u)f_t(\\omega)}{1 + 4tf_t(\\omega)}\\\\\n",
    "\\therefore u_t &= \\frac{3t^2 + \\lbrack 12t^3 -4(t^3 + f(\\omega))\\rbrack f_t(\\omega)}{1 + 4tf_t(\\omega)} \\\\\n",
    "\\therefore u_t &= \\frac{3t^2 + \\lbrack 8t^3 -4f(\\omega))\\rbrack f_t(\\omega)}{1 + 4tf_t(\\omega)} &(3) \\\\\n",
    "\\end{align}\n"
   ]
  },
  {
   "cell_type": "markdown",
   "metadata": {},
   "source": [
    "### Part(b):\n",
    "\\begin{align}\n",
    "\\frac{\\partial u}{\\partial t} + 4u\\frac{\\partial u}{\\partial x} &= \\phi(t) \\\\\n",
    "u_t &= \\frac{3t^2 + 8t^3f_t(\\omega) - 4f(\\omega)f_t(\\omega)}{1 + 4tf_t(\\omega)}\\\\\n",
    "u_x &= \\frac{f_x(\\omega)}{1 + 4tf_x(\\omega)} \\\\\n",
    "4uu_x &= \\frac{4t^3f_x(\\omega) + 4f(\\omega)f_x(\\omega)}{1 + 4tf_x(\\omega)} \\\\\n",
    "\\end{align}\n",
    "\n",
    "\\begin{align}\n",
    "\\therefore \\frac{3t^2 + 8t^3f_t(\\omega) - 4f(\\omega)f_t(\\omega)}{1 + 4tf_t(\\omega)} + \\frac{4t^3f_x(\\omega) + 4f(\\omega)f_x(\\omega)}{1 + 4tf_x(\\omega)} & = \\phi(t) \\\\\n",
    "\\therefore \\frac{(1 + 4tf_x(\\omega))\\lbrack 3t^2 + 8t^3f_t(\\omega) - 4f(\\omega)f_t(\\omega) \\rbrack}{(1 + 4tf_t(\\omega))(1 + 4tf_x(\\omega))} + \\frac{ (1 + 4tf_t(\\omega))\\lbrack 4t^3f_x(\\omega) + 4f(\\omega)f_x(\\omega) \\rbrack}{(1 + 4tf_x(\\omega))(1 + 4tf_t(\\omega))} & = \\phi(t)\\\\ \\\\\n",
    "\\therefore \\frac{[3t^2 + 8t^3f_t(\\omega) - 4f(\\omega)f_t(\\omega)] + [12t^3f_x(\\omega) + 32t^4f_t(\\omega)f_x(\\omega) - 16tf(\\omega)f_t(\\omega)f_x(\\omega)]}{(1 + 4tf_x(\\omega))(1 + 4tf_t(\\omega))} + \\frac{[4t^3f_x(\\omega) + 4f(\\omega)f_x(\\omega)] +[16t^4f_t(\\omega)f_x(\\omega) + 16tf(\\omega)f_t(\\omega)f_x(\\omega)]}{(1 + 4tf_x(\\omega))(1 + 4tf_t(\\omega))} & = \\phi(t)\\\\ \\\\\n",
    "\\therefore \\frac{48f_t(\\omega)f_x(\\omega)t^4 +[16f_x(\\omega) + 8f_t(\\omega)]t^3 + 3t^2 + [4f(\\omega)f_x(\\omega) -4f(\\omega)f_t(\\omega)]}{(1 + 4tf_x(\\omega))(1 + 4tf_t(\\omega))} & = \\phi(t)\\\\ \\\\\n",
    "\\end{align}"
   ]
  },
  {
   "cell_type": "markdown",
   "metadata": {},
   "source": [
    "Not sure this is correct.  It is a bit of a dogs breakfast.  I would have thought some simplification was possible but I cannot see it."
   ]
  }
 ],
 "metadata": {
  "kernelspec": {
   "display_name": "Python 3.7.6 64-bit ('base37': conda)",
   "language": "python",
   "name": "python37664bitbase37condaa4b23bafa85c4735b71c45b7bba63238"
  },
  "language_info": {
   "codemirror_mode": {
    "name": "ipython",
    "version": 3
   },
   "file_extension": ".py",
   "mimetype": "text/x-python",
   "name": "python",
   "nbconvert_exporter": "python",
   "pygments_lexer": "ipython3",
   "version": "3.7.6"
  }
 },
 "nbformat": 4,
 "nbformat_minor": 2
}
