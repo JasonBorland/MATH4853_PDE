{
 "cells": [
  {
   "cell_type": "markdown",
   "metadata": {},
   "source": [
    "# DT8248 Introduction to PDEs Problem Set 1"
   ]
  },
  {
   "cell_type": "markdown",
   "metadata": {},
   "source": [
    "## Question 3b"
   ]
  },
  {
   "cell_type": "markdown",
   "metadata": {},
   "source": [
    "\\begin{align}\n",
    "\\frac{\\partial u}{\\partial x} +\\, \\frac{\\partial u}{\\partial y} +\\, u & = 1\n",
    "\\end{align}"
   ]
  },
  {
   "cell_type": "markdown",
   "metadata": {},
   "source": [
    "\\begin{equation*}\n",
    "u(x,x) = x^2 \\quad\\quad x > 0\n",
    "\\end{equation*}"
   ]
  },
  {
   "cell_type": "markdown",
   "metadata": {},
   "source": [
    "### Solve using Parametric form of Method of Characteristics "
   ]
  },
  {
   "cell_type": "markdown",
   "metadata": {},
   "source": [
    "\\begin{align}\n",
    "\\frac{dx}{dt}  & = 1 \\quad\\quad & (1)\\\\\n",
    "\\frac{dy}{dt}  & = 1 \\quad\\quad  & (2)\\\\\n",
    "\\frac{du}{dt}  & = 1-u \\quad\\quad & (3)\\\\\n",
    "\\end{align}"
   ]
  },
  {
   "cell_type": "markdown",
   "metadata": {},
   "source": [
    "We need to parameterize the initial conditions. Let s be the parameter along the data curve.  Let (s,s) be a typical point along the data curve.  s > 0. The initial conditions tell us that:\n",
    "\n",
    "\\begin{equation*}\n",
    "u = s^2, \\quad\\quad at \\quad (s,s),\\, \\quad s > 0 \\\\\n",
    "\\end{equation*}\n",
    "\n",
    "At t = 0: \n",
    "\\begin{equation*}\n",
    "x = s, \\quad y = s, \\quad u = s^2 \n",
    "\\end{equation*}\n",
    "\n",
    "\n",
    "\n"
   ]
  },
  {
   "cell_type": "markdown",
   "metadata": {},
   "source": [
    "### Solving Equation (1)\n"
   ]
  },
  {
   "cell_type": "markdown",
   "metadata": {},
   "source": [
    "\\begin{align}\n",
    "\\frac{dx}{dt}  & = 1 \\quad\\quad \\\\\n",
    "\\therefore \\int dx & = \\int dt \\\\\n",
    "\\therefore x & = t + A\n",
    "\\end{align}\n",
    "\n",
    "When t = 0, x = s.\n",
    "\\begin{align}\n",
    "\\therefore s & = 0 + A \\\\\n",
    "\\therefore A & = s \\\\\n",
    "\\therefore x & = t + s\n",
    "\\end{align}"
   ]
  },
  {
   "cell_type": "markdown",
   "metadata": {},
   "source": [
    "### Solving Equation (2)"
   ]
  },
  {
   "cell_type": "markdown",
   "metadata": {},
   "source": [
    "\\begin{align}\n",
    "\\frac{dy}{dt}  & = 1 \\quad\\quad\\\\\n",
    "\\therefore \\int dy & = \\int dt \\\\\n",
    "\\therefore y & = t + B\n",
    "\\end{align}\n",
    "\n",
    "When t = 0, y = s.\n",
    "\\begin{align}\n",
    "\\therefore s & = 0 + B \\\\\n",
    "\\therefore B & = s \\\\\n",
    "\\therefore y & = t + s\n",
    "\\end{align}"
   ]
  },
  {
   "cell_type": "markdown",
   "metadata": {},
   "source": [
    "### Solving Equation 3\n",
    "\\begin{align}\n",
    "& \\frac{du}{dt}  & = 1 - u \\\\\n",
    "& \\therefore \\quad \\int \\frac{1}{1-u} du &= \\int dt \\\\\n",
    "& \\therefore \\quad \\int \\frac{1}{u-1} du &= -\\int dt \\\\\n",
    "& \\therefore \\quad \\ln \\vert(u-1)\\vert & = -t + C \\\\\n",
    "& \\therefore \\quad \\vert(u-1)\\vert &= e^{-t + C} \\\\\n",
    "& \\therefore \\quad \\vert(u-1)\\vert &= e^{C}e^{-t} \\\\\n",
    "& \\therefore \\quad u - 1 & = \\pm e^{C}e^{-t} \\\\ \n",
    "& \\therefore \\quad u &= De^{-t} +1 \n",
    "\\end{align}\n",
    "\n",
    "When t=0, $s^2$\n",
    "\\begin{align}\n",
    "\\therefore s^2 & = De^{-0} + 1 \\\\\n",
    "\\therefore s^2 & = D + 1 \\\\\n",
    "\\therefore D & = s^2 - 1 \\\\\n",
    "\\therefore u & = (s^2 -1)e^{-t} + 1\n",
    "\\end{align}"
   ]
  },
  {
   "cell_type": "markdown",
   "metadata": {},
   "source": [
    "We need to find t and s in terms of $x$ and $y$.   \n",
    "We know $y = t +s$, and $x = t + s$.\n",
    "So $x=y$, \n",
    "therefore $s = 0$ and \n",
    "\n",
    "\\begin{align}\n",
    "\\therefore t &= \\frac{x+y}{2} \\\\\n",
    "\\therefore u(x,y) &= -e^{- \\frac{x+y}{2}} + 1 \n",
    "\\end{align}"
   ]
  },
  {
   "cell_type": "code",
   "execution_count": 2,
   "metadata": {},
   "outputs": [],
   "source": [
    "import numpy as np\n",
    "import math\n",
    "import matplotlib.pyplot as plt #Matplotlib for pythons basic plotting\n",
    "import plotly"
   ]
  },
  {
   "cell_type": "code",
   "execution_count": 3,
   "metadata": {},
   "outputs": [
    {
     "data": {
      "image/png": "[encoded data removed]",
      "text/plain": [
       "<Figure size 432x288 with 1 Axes>"
      ]
     },
     "metadata": {
      "needs_background": "light"
     },
     "output_type": "display_data"
    }
   ],
   "source": [
    "X = np.arange(-5, 5, 0.1)\n",
    "\n",
    "Y0 = X +0\n",
    "\n",
    "\n",
    "plt.plot(X, Y0,'r--')\n",
    "plt.xlabel('X')\n",
    "plt.ylabel('Y')\n",
    "plt.show()"
   ]
  },
  {
   "cell_type": "code",
   "execution_count": null,
   "metadata": {},
   "outputs": [],
   "source": []
  }
 ],
 "metadata": {
  "kernelspec": {
   "display_name": "Python 3.7.6 64-bit ('base37': conda)",
   "language": "python",
   "name": "python37664bitbase37condaa4b23bafa85c4735b71c45b7bba63238"
  },
  "language_info": {
   "codemirror_mode": {
    "name": "ipython",
    "version": 3
   },
   "file_extension": ".py",
   "mimetype": "text/x-python",
   "name": "python",
   "nbconvert_exporter": "python",
   "pygments_lexer": "ipython3",
   "version": "3.7.6"
  }
 },
 "nbformat": 4,
 "nbformat_minor": 4
}
