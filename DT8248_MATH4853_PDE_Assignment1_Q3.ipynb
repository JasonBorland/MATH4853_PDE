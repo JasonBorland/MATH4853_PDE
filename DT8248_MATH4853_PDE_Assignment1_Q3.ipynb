{
 "cells": [
  {
   "cell_type": "markdown",
   "metadata": {},
   "source": [
    "## DT8248 MATH4853 Introduction to Partial Differential Equations Assignment 1\n",
    "## Lecturer: Colum Watt\n",
    "## Student Name: Jason Borland \n",
    "## Student Number: D17129310\n",
    "\n",
    "## Question 3"
   ]
  },
  {
   "cell_type": "markdown",
   "metadata": {},
   "source": [
    "Determine the general solution of the partial differential equation:\n",
    "$$ (lu - my)\\frac{\\partial u}{\\partial x} +(mx-nu)\\frac{\\partial u}{\\partial y} = ny - lx \\quad (1)$$\n",
    "\n",
    "Where $l, \\, m, \\, and \\, n$ are unkown constants.\n",
    "\n",
    "Note: This is of the form of a quasi-linear PDE:\n",
    "\n",
    "$$ a(x, y, u)\\frac{\\partial u}{\\partial x} + b(x, y, u)\\frac{\\partial u}{\\partial y} = c(x, y, u) $$\n",
    "\n"
   ]
  },
  {
   "cell_type": "markdown",
   "metadata": {},
   "source": [
    "Consider the system of ODEs:\n",
    "\n",
    "\\begin{align}\n",
    "\\frac{dx}{dt} &= lu - my \\quad & (2) \\\\\n",
    "\\frac{dy}{dt} &= mx - nu \\quad & (3) \\\\\n",
    "\\frac{du}{dt} &= ny - lx \\quad & (4) \\\\\n",
    "\\end{align}\n",
    "\n",
    "We are looking for a first integral $\\varphi$:\n",
    "\\begin{align}\n",
    "n\\frac{dx}{dt} + l\\frac{dy}{dt} + m\\frac{du}{dt} &= nlu -nmy + lmx - lnu + mny -mlx \\\\\n",
    "\\therefore n\\frac{dx}{dt} + l\\frac{dy}{dt} + m\\frac{du}{dt} &= 0 \\\\\n",
    "\\therefore \\frac{d [nx + ly + mu]}{dt} &= 0 \\\\\n",
    "\\therefore nx + ly + mu &= K \\quad where \\, K \\, is \\, a \\, constant\\\\\n",
    "\\therefore nx + ly + mu &= \\varphi(x,y,u) \\quad (5)\\\\\n",
    "\\end{align}\n",
    "\n",
    "Now we need to find a 2nd first integral $\\psi$:\n",
    "\\begin{align}\n",
    "x\\frac{dx}{dt} + y\\frac{dy}{dt} + u\\frac{du}{dt} &= xlu -xmy + ymx - ynu + uny -ulx \\\\\n",
    "\\therefore x\\frac{dx}{dt} + y\\frac{dy}{dt} + u\\frac{du}{dt} &= 0 \\\\\n",
    "\\therefore \\frac{d [\\frac{1}{2}x^2 + \\frac{1}{2}y^2 + \\frac{1}{2}u^2]}{dt} &= 0 \\\\\n",
    "\\therefore \\frac{d \\frac{1}{2}[x^2 + y^2 + u^2]}{dt} &= 0 \\\\\n",
    "\\therefore x^2 + y^2 + u^2 &= L \\quad where \\, L \\, is \\, a \\, constant\\\\\n",
    "\\therefore x^2 + y^2 + u^2 &= \\psi(x,y,u) \\quad (6)\\\\\n",
    "\\end{align}\n",
    "\n"
   ]
  },
  {
   "cell_type": "markdown",
   "metadata": {},
   "source": [
    "Check that first integrals (5) and (6) are functionally independent first integrals (fifi):\n",
    "\n",
    "Check that $\\nabla\\varphi \\times \\nabla\\psi \\ne 0$:\n",
    "\n",
    "\\begin{align}\n",
    "\\nabla\\varphi &= n\\imath + l\\jmath + mk \\\\\n",
    "\\nabla\\psi &= 2x\\imath + 2y\\jmath + 2uk \\\\\n",
    "\\end{align}\n",
    "\n",
    "\\begin{align}\n",
    "\\nabla\\varphi \\times \\nabla\\psi &=\n",
    "\\begin{vmatrix}\n",
    "\\imath & \\jmath & k \\\\\n",
    "n & l & m \\\\\n",
    "2x & 2y & 2u\n",
    "\\end{vmatrix}\n",
    "= \\imath(2lx - 2ym) - \\jmath(2nz - 2mx) + k(2ny -2xl)\n",
    "\\end{align}\n",
    "\n",
    "So $\\nabla\\varphi \\times \\nabla\\psi \\ne 0$, (unless $x=y=u=0$ or $x=y=z$ and $l=m=n$).  So our first integrals ((5) and (6) are fifi.\n",
    "\n",
    "The general solution to the PDE (1) is:\n",
    "\n",
    "\\begin{align}\n",
    "x^2 + y^2+ u^2 &= F(nx + ly + mu) \\\\\n",
    "or \\, nx + ly + mu &= G(x^2 + y^2+ u^2) \\\\\n",
    "\\end{align}\n",
    "\n"
   ]
  },
  {
   "cell_type": "code",
   "execution_count": null,
   "metadata": {},
   "outputs": [],
   "source": []
  }
 ],
 "metadata": {
  "kernelspec": {
   "display_name": "Python 3.7.6 64-bit ('base37': conda)",
   "language": "python",
   "name": "python37664bitbase37condaa4b23bafa85c4735b71c45b7bba63238"
  },
  "language_info": {
   "codemirror_mode": {
    "name": "ipython",
    "version": 3
   },
   "file_extension": ".py",
   "mimetype": "text/x-python",
   "name": "python",
   "nbconvert_exporter": "python",
   "pygments_lexer": "ipython3",
   "version": "3.7.6"
  }
 },
 "nbformat": 4,
 "nbformat_minor": 2
}
